{
 "cells": [
  {
   "cell_type": "code",
   "execution_count": 2,
   "id": "8276d8f0-9f43-45a3-a181-a64b1749cd29",
   "metadata": {},
   "outputs": [
    {
     "ename": "ImportError",
     "evalue": "attempted relative import with no known parent package",
     "output_type": "error",
     "traceback": [
      "\u001b[0;31m---------------------------------------------------------------------------\u001b[0m",
      "\u001b[0;31mImportError\u001b[0m                               Traceback (most recent call last)",
      "Input \u001b[0;32mIn [2]\u001b[0m, in \u001b[0;36m<cell line: 13>\u001b[0;34m()\u001b[0m\n\u001b[1;32m     11\u001b[0m \u001b[38;5;28;01mimport\u001b[39;00m \u001b[38;5;21;01mrandom\u001b[39;00m\u001b[38;5;241m,\u001b[39m \u001b[38;5;21;01mstring\u001b[39;00m\n\u001b[1;32m     12\u001b[0m \u001b[38;5;28;01mimport\u001b[39;00m \u001b[38;5;21;01mtime\u001b[39;00m\n\u001b[0;32m---> 13\u001b[0m \u001b[38;5;28;01mfrom\u001b[39;00m \u001b[38;5;21;01m.\u001b[39;00m\u001b[38;5;21;01mcustmize\u001b[39;00m \u001b[38;5;28;01mimport\u001b[39;00m merge_excel\n",
      "\u001b[0;31mImportError\u001b[0m: attempted relative import with no known parent package"
     ]
    }
   ],
   "source": [
    "from pdfminer.pdfinterp import PDFResourceManager, PDFPageInterpreter\n",
    "from pdfminer.converter import TextConverter\n",
    "from pdfminer.layout import LAParams\n",
    "from pdfminer.pdfpage import PDFPage\n",
    "from io import StringIO\n",
    "from glob import glob\n",
    "from django.conf import settings\n",
    "import os\n",
    "import shutil\n",
    "import openpyxl\n",
    "import random, string\n",
    "import time\n",
    "from .custmize import merge_excel  #冒頭に新規追加"
   ]
  },
  {
   "cell_type": "code",
   "execution_count": null,
   "id": "e104d2bf-8a0f-4df0-997b-0d1928947ce0",
   "metadata": {},
   "outputs": [],
   "source": [
    "def convert_pdf_to_txt(path):\n",
    "    \"\"\"pdfからテキスト情報を抽出する関数\"\"\"\n",
    "\n",
    "    rsrcmgr = PDFResourceManager()\n",
    "    retstr = StringIO()\n",
    "    codec = 'utf-8'\n",
    "    laparams = LAParams()\n",
    "    laparams.detect_vertical = True # Trueにすることで綺麗にテキストを抽出できる\n",
    "    device = TextConverter(rsrcmgr, retstr, codec=codec, laparams=laparams)\n",
    "    fp = open(path, 'rb')\n",
    "    interpreter = PDFPageInterpreter(rsrcmgr, device)\n",
    "    maxpages = 0   #最大ページ数の指定\n",
    "    fstr = ''\n",
    "    for page in PDFPage.get_pages(fp, maxpages=maxpages):   #1ページ分の情報を取得する\n",
    "        interpreter.process_page(page)   # process_page()で1ページ分の情報をテキストに変換\n",
    "\n",
    "        str = retstr.getvalue()  #StringIO オブジェクト内に格納されているテキスト情報を取得する。\n",
    "        fstr += str   #fstr変数に取得したテキスト情報を追記していく\n",
    "\n",
    "    fp.close()\n",
    "    device.close()\n",
    "    retstr.close()\n",
    "    return fstr\n",
    "\n"
   ]
  },
  {
   "cell_type": "code",
   "execution_count": null,
   "id": "e9771f94-ed29-4d67-a442-a4ffb5323d4e",
   "metadata": {},
   "outputs": [],
   "source": [
    "def create_excel(upload_dir,user_name):\n",
    "    \"\"\"Excelデータを生成する関数\"\"\"\n",
    "    #アップロードしたファイルの取り込み\n",
    "    upload_path = os.path.join(upload_dir, \"*.pdf\")    \n",
    "    template_file = os.path.join(settings.MEDIA_ROOT, \"template\",\"請求書一覧ファイル.xlsx\")\n",
    "    timestr = time.strftime(\"%Y%m%d-%H%M%S\")\n",
    "    work_file =os.path.join(settings.MEDIA_ROOT, \"temp\", \"請求書一覧ファイル_\" + timestr + \".xlsx\")  \n",
    "    user_dir = os.path.join(settings.MEDIA_ROOT , \"excel\", user_name) \n",
    "    file_list = glob(upload_path)   #uploadされたPDFファイルリストを取得\n",
    "    shutil.copyfile(template_file, work_file)  #テンプレートファイルをコピー\n",
    "    book = openpyxl.load_workbook(work_file)   #Excelファイルオープン\n",
    "\n",
    "    result_list =[]\n",
    "    for pdf in file_list:\n",
    "        \"\"\"アップロードされたPDFファイルを1つずつ読み込んでText化する。\"\"\"\n",
    "        result_txt = convert_pdf_to_txt(pdf)\n",
    "        result_list.append(result_txt)\n",
    "\n",
    "    merge_excel(book,result_list,work_file) #Excelにデータをセット           \n",
    "    #個人ディレクトリへコピー\n",
    "    shutil.move(work_file, user_dir)\n",
    "\n",
    "\n",
    "\n",
    "\n"
   ]
  }
 ],
 "metadata": {
  "kernelspec": {
   "display_name": "Python 3 (ipykernel)",
   "language": "python",
   "name": "python3"
  },
  "language_info": {
   "codemirror_mode": {
    "name": "ipython",
    "version": 3
   },
   "file_extension": ".py",
   "mimetype": "text/x-python",
   "name": "python",
   "nbconvert_exporter": "python",
   "pygments_lexer": "ipython3",
   "version": "3.9.12"
  }
 },
 "nbformat": 4,
 "nbformat_minor": 5
}
